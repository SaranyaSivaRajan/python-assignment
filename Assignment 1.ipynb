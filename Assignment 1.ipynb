{
 "cells": [
  {
   "cell_type": "markdown",
   "id": "cc674f6c",
   "metadata": {},
   "source": [
    "1. In the below elements which of them are values or an expression? eg:- values can be\n",
    "integer or string and expressions will be mathematical operators.\n",
    "*\n",
    "&#39;hello&#39;\n",
    "-87.8\n",
    "-\n",
    "/\n",
    "+\n",
    "6\n",
    "\n",
    "    values are: hello, -87.8 and 6 \n",
    "    expressions are: *,-,/,+\n",
    "        \n",
    "2. What is the difference between string and variable?\n",
    "   \n",
    "  Variable is the value which we assign to be used in our code.\n",
    "  \n",
    "  String is a variable type which is assigned inside single or double quotes which can be numbers, alphabets or special characters. eg \"Python\", 'coding',\"data\"\n",
    "  \n",
    "3. Describe three different data types.\n",
    "\n",
    "  int,float and str \n",
    "  \n",
    "  int takes only integer values eg.1,3,5,7. \n",
    "  \n",
    "  float takes decimal point numbers like 3.14, 9.8 \n",
    "  \n",
    "  str takes values inside quotes eg. 'python', \"1234\"\n",
    "  \n",
    "4. What is an expression made up of? What do all expressions do?\n",
    "\n",
    "  An expression is made up of values, variables and operators. Value alone and variables alone are also considered\n",
    "  as  expressions. Expressions returns a value eg. 'learn'+'python' returns 'learnpython'\n",
    "  \n",
    "  \n",
    "5. In this assignment statement, like spam = 10. What is the difference between an expression and a statement? \n",
    "\n",
    "  spam=10. This is an 'assignment statement' where 10 is assigned to the variable spam. Upon execution it doen't return \n",
    "  any  value. \"spam\" and 10 are expressions and an expression always returns a value. A statement is made of \n",
    "  several expressions but does not return a value\"\n"
   ]
  },
  {
   "cell_type": "code",
   "execution_count": 3,
   "id": "97208f06",
   "metadata": {},
   "outputs": [],
   "source": [
    "spam = 10 # assignment statement"
   ]
  },
  {
   "cell_type": "code",
   "execution_count": 4,
   "id": "12b9374d",
   "metadata": {},
   "outputs": [
    {
     "data": {
      "text/plain": [
       "10"
      ]
     },
     "execution_count": 4,
     "metadata": {},
     "output_type": "execute_result"
    }
   ],
   "source": [
    "spam  # expression"
   ]
  },
  {
   "cell_type": "markdown",
   "id": "661ca9b1",
   "metadata": {},
   "source": [
    "6. After running the following code, what does the variable bacon contain? \n",
    "   bacon=22 \n",
    "   bacon+1"
   ]
  },
  {
   "cell_type": "code",
   "execution_count": 5,
   "id": "380989d2",
   "metadata": {},
   "outputs": [
    {
     "data": {
      "text/plain": [
       "23"
      ]
     },
     "execution_count": 5,
     "metadata": {},
     "output_type": "execute_result"
    }
   ],
   "source": [
    "bacon = 22\n",
    "bacon + 1"
   ]
  },
  {
   "cell_type": "code",
   "execution_count": 3,
   "id": "e75eebfc",
   "metadata": {},
   "outputs": [
    {
     "data": {
      "text/plain": [
       "22"
      ]
     },
     "execution_count": 3,
     "metadata": {},
     "output_type": "execute_result"
    }
   ],
   "source": [
    "bacon"
   ]
  },
  {
   "cell_type": "markdown",
   "id": "219aff8f",
   "metadata": {},
   "source": [
    "7. What should the values of the following two terms be?\n",
    "   'spam'+'spamspam'\n",
    "    'spam'*3"
   ]
  },
  {
   "cell_type": "code",
   "execution_count": 5,
   "id": "09b80adb",
   "metadata": {},
   "outputs": [
    {
     "data": {
      "text/plain": [
       "'spamspamspam'"
      ]
     },
     "execution_count": 5,
     "metadata": {},
     "output_type": "execute_result"
    }
   ],
   "source": [
    "'spam'+'spamspam'"
   ]
  },
  {
   "cell_type": "code",
   "execution_count": 6,
   "id": "7ec06d45",
   "metadata": {},
   "outputs": [
    {
     "data": {
      "text/plain": [
       "'spamspamspam'"
      ]
     },
     "execution_count": 6,
     "metadata": {},
     "output_type": "execute_result"
    }
   ],
   "source": [
    "'spam'*3"
   ]
  },
  {
   "cell_type": "markdown",
   "id": "39859141",
   "metadata": {},
   "source": [
    "8. Why is eggs a valid variable name while 100 is invalid?\n",
    " \n",
    "  In python a variable name can't begin with a number. Hence eggs is a valid variable name and 100 is invalid but eggs100 is \n",
    "  a valid variable name\n"
   ]
  },
  {
   "cell_type": "markdown",
   "id": "8cd36798",
   "metadata": {},
   "source": [
    "9.  What three functions can be used to get the integer, floating-point number, or string\n",
    "    version of a value?\n",
    "    \n",
    "    \n",
    "   int(), float(), str()"
   ]
  },
  {
   "cell_type": "markdown",
   "id": "a2a7a16f",
   "metadata": {},
   "source": [
    "10. Why does this expression cause an error? How can you fix it? 'i have eaten'+ 99 + 'burritos'\n",
    "\n",
    "  Since 99 is an integer, it cannot be concatenated to strings\"\n"
   ]
  },
  {
   "cell_type": "code",
   "execution_count": 12,
   "id": "fbc1e05d",
   "metadata": {},
   "outputs": [
    {
     "ename": "TypeError",
     "evalue": "can only concatenate str (not \"int\") to str",
     "output_type": "error",
     "traceback": [
      "\u001b[1;31m---------------------------------------------------------------------------\u001b[0m",
      "\u001b[1;31mTypeError\u001b[0m                                 Traceback (most recent call last)",
      "Input \u001b[1;32mIn [12]\u001b[0m, in \u001b[0;36m<cell line: 1>\u001b[1;34m()\u001b[0m\n\u001b[1;32m----> 1\u001b[0m \u001b[38;5;124;43m'\u001b[39;49m\u001b[38;5;124;43mi have eaten\u001b[39;49m\u001b[38;5;124;43m'\u001b[39;49m\u001b[38;5;241;43m+\u001b[39;49m\u001b[38;5;241;43m99\u001b[39;49m\u001b[38;5;241m+\u001b[39m\u001b[38;5;124m'\u001b[39m\u001b[38;5;124mburritos\u001b[39m\u001b[38;5;124m'\u001b[39m\n",
      "\u001b[1;31mTypeError\u001b[0m: can only concatenate str (not \"int\") to str"
     ]
    }
   ],
   "source": [
    "'i have eaten'+99+'burritos'"
   ]
  },
  {
   "cell_type": "code",
   "execution_count": 14,
   "id": "8b5931f8",
   "metadata": {},
   "outputs": [
    {
     "data": {
      "text/plain": [
       "'i have eaten 99 burritos'"
      ]
     },
     "execution_count": 14,
     "metadata": {},
     "output_type": "execute_result"
    }
   ],
   "source": [
    "'i have eaten'+' 99 '+'burritos'"
   ]
  },
  {
   "cell_type": "markdown",
   "id": "121f8572",
   "metadata": {},
   "source": [
    "We have to typecast 99 which is an integer into string to do concatenation."
   ]
  }
 ],
 "metadata": {
  "kernelspec": {
   "display_name": "Python 3 (ipykernel)",
   "language": "python",
   "name": "python3"
  },
  "language_info": {
   "codemirror_mode": {
    "name": "ipython",
    "version": 3
   },
   "file_extension": ".py",
   "mimetype": "text/x-python",
   "name": "python",
   "nbconvert_exporter": "python",
   "pygments_lexer": "ipython3",
   "version": "3.9.12"
  }
 },
 "nbformat": 4,
 "nbformat_minor": 5
}
