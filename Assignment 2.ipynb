{
 "cells": [
  {
   "cell_type": "markdown",
   "id": "4edce075",
   "metadata": {},
   "source": [
    "1. What are the two values of the Boolean data type? How do you write them?\n",
    "\n",
    "         True and False\n"
   ]
  },
  {
   "cell_type": "code",
   "execution_count": 2,
   "id": "67122869",
   "metadata": {},
   "outputs": [
    {
     "data": {
      "text/plain": [
       "bool"
      ]
     },
     "execution_count": 2,
     "metadata": {},
     "output_type": "execute_result"
    }
   ],
   "source": [
    "x = True\n",
    "type(x)"
   ]
  },
  {
   "cell_type": "code",
   "execution_count": 3,
   "id": "d4c45d2a",
   "metadata": {},
   "outputs": [
    {
     "data": {
      "text/plain": [
       "bool"
      ]
     },
     "execution_count": 3,
     "metadata": {},
     "output_type": "execute_result"
    }
   ],
   "source": [
    "y = False\n",
    "type(y)"
   ]
  },
  {
   "cell_type": "markdown",
   "id": "5b608e1f",
   "metadata": {},
   "source": [
    "2. What are the three different types of Boolean operators? \n",
    "\n",
    "  Three Boolean operators are: and , or, not\n",
    "        \n",
    "3. Make a list of each Boolean operator's truth tables (i.e. every possible combination of Boolean\n",
    "   values for the operator and what it evaluate ).\n",
    "\n",
    "Truth Table: \n",
    "\n",
    "    Boolean And:\n",
    "        F    F    F\n",
    "        F    T    F\n",
    "        T    F    F\n",
    "        T    T    T\n",
    "        \n",
    "    Boolean Or:\n",
    "        F    F    F\n",
    "        F    T    T\n",
    "        T    F    T\n",
    "        T    T    T\n",
    "        \n",
    "    Boolean Not:\n",
    "           T      F\n",
    "           F      T\n",
    "           \n",
    "where T=1 F=0\n"
   ]
  },
  {
   "cell_type": "markdown",
   "id": "bac9c413",
   "metadata": {},
   "source": [
    "4. What are the values of the following expressions?\n",
    "   (5 > 4) and (3 == 5)\n",
    "   not (5 > 4)\n",
    "   (5 > 4) or (3 == 5)\n",
    "   not ((5 > 4) or (3 == 5))\n",
    "   (True and True) and (True == False)\n",
    "   (not False) or (not True)"
   ]
  },
  {
   "cell_type": "code",
   "execution_count": 2,
   "id": "533b009e",
   "metadata": {},
   "outputs": [
    {
     "data": {
      "text/plain": [
       "False"
      ]
     },
     "execution_count": 2,
     "metadata": {},
     "output_type": "execute_result"
    }
   ],
   "source": [
    "(5>4) and (3==5)"
   ]
  },
  {
   "cell_type": "code",
   "execution_count": 3,
   "id": "b79c2344",
   "metadata": {},
   "outputs": [
    {
     "data": {
      "text/plain": [
       "False"
      ]
     },
     "execution_count": 3,
     "metadata": {},
     "output_type": "execute_result"
    }
   ],
   "source": [
    "not(5>4)"
   ]
  },
  {
   "cell_type": "code",
   "execution_count": 4,
   "id": "8b3573a4",
   "metadata": {},
   "outputs": [
    {
     "data": {
      "text/plain": [
       "True"
      ]
     },
     "execution_count": 4,
     "metadata": {},
     "output_type": "execute_result"
    }
   ],
   "source": [
    "(5>4) or (3==5)"
   ]
  },
  {
   "cell_type": "code",
   "execution_count": 5,
   "id": "8880f946",
   "metadata": {},
   "outputs": [
    {
     "data": {
      "text/plain": [
       "False"
      ]
     },
     "execution_count": 5,
     "metadata": {},
     "output_type": "execute_result"
    }
   ],
   "source": [
    "not((5>4) or (3==5))"
   ]
  },
  {
   "cell_type": "code",
   "execution_count": 6,
   "id": "22c32f02",
   "metadata": {},
   "outputs": [
    {
     "data": {
      "text/plain": [
       "False"
      ]
     },
     "execution_count": 6,
     "metadata": {},
     "output_type": "execute_result"
    }
   ],
   "source": [
    "(True and True) and (True == False)"
   ]
  },
  {
   "cell_type": "code",
   "execution_count": 7,
   "id": "6b3f8bdd",
   "metadata": {},
   "outputs": [
    {
     "data": {
      "text/plain": [
       "True"
      ]
     },
     "execution_count": 7,
     "metadata": {},
     "output_type": "execute_result"
    }
   ],
   "source": [
    "(not False) or (not True)"
   ]
  },
  {
   "cell_type": "markdown",
   "id": "511ae368",
   "metadata": {},
   "source": [
    "5. What are the six comparison operators? \n",
    "  \n",
    "   == \n",
    "   \n",
    "   !=\n",
    "   \n",
    "   >\n",
    "   \n",
    "   <\n",
    "   \n",
    "  \n",
    "   >=\n",
    "   \n",
    "   \n",
    "   <=\n"
   ]
  },
  {
   "cell_type": "markdown",
   "id": "19652dad",
   "metadata": {},
   "source": [
    "6. How do you tell the difference between the equal to and assignment operators?Describe a\n",
    "   condition and when you would use one.\n",
    "   \n",
    "      assignment operator is =\n",
    "      \n",
    "      equal to operator is  ==\n",
    "      \n",
    "  In case of assignment operator, the values in RHS is assigned to the variable in LHS. Eg x = y + z. here the value of y+z \n",
    "  is  assigned to x\n",
    "  \n",
    "  In case of equal to operator, it is used to check if LHS is equal to RHS ie, whether both operands are equal. \n",
    "     eg.   7 == 7      output is True \n"
   ]
  },
  {
   "cell_type": "markdown",
   "id": "ed976c89",
   "metadata": {},
   "source": [
    "7. Identify the three blocks in this code:\n",
    "\n",
    "\n",
    "spam = 0\n",
    "if spam == 10:\n",
    "print('eggs')\n",
    "if spam >5:\n",
    "print('bacon')\n",
    "else:\n",
    "print('ham')\n",
    "print('spam')\n",
    "print('spam')"
   ]
  },
  {
   "cell_type": "code",
   "execution_count": 7,
   "id": "c0b202e5",
   "metadata": {},
   "outputs": [
    {
     "name": "stdout",
     "output_type": "stream",
     "text": [
      "ham\n",
      "spam\n",
      "spam\n"
     ]
    }
   ],
   "source": [
    "spam = 1\n",
    "if spam == 10:      #block 1\n",
    "    print('eggs')\n",
    "if spam >5:         #block 2\n",
    "    print('bacon')\n",
    "else:               #block 3\n",
    "    print('ham')\n",
    "print('spam') \n",
    "print('spam')"
   ]
  },
  {
   "cell_type": "markdown",
   "id": "b85f9d48",
   "metadata": {},
   "source": [
    "8. Write code that prints 'Hello' if 1 is stored in spam, prints 'Howdy' if 2 is stored in spam, and prints\n",
    "   'Greetings!' if anything else is stored in spam."
   ]
  },
  {
   "cell_type": "code",
   "execution_count": 5,
   "id": "c94ff255",
   "metadata": {},
   "outputs": [
    {
     "name": "stdout",
     "output_type": "stream",
     "text": [
      "Greetings!\n"
     ]
    }
   ],
   "source": [
    "spam = 3\n",
    "if spam == 1:\n",
    "    print('Hello')\n",
    "elif spam == 2:\n",
    "    print(\"Howdy\")\n",
    "else:\n",
    "    print('Greetings!')"
   ]
  },
  {
   "cell_type": "markdown",
   "id": "06fa3fab",
   "metadata": {},
   "source": [
    "9.If your programme is stuck in an endless loop, what keys you’ll press?\n",
    "\n",
    "    ctrl+c"
   ]
  },
  {
   "cell_type": "code",
   "execution_count": null,
   "id": "7dabbe81",
   "metadata": {},
   "outputs": [],
   "source": [
    "Q10 break statement is used to break the loop in which it is used and the program outside that particilar loop continues executing."
   ]
  }
 ],
 "metadata": {
  "kernelspec": {
   "display_name": "Python 3 (ipykernel)",
   "language": "python",
   "name": "python3"
  },
  "language_info": {
   "codemirror_mode": {
    "name": "ipython",
    "version": 3
   },
   "file_extension": ".py",
   "mimetype": "text/x-python",
   "name": "python",
   "nbconvert_exporter": "python",
   "pygments_lexer": "ipython3",
   "version": "3.9.12"
  }
 },
 "nbformat": 4,
 "nbformat_minor": 5
}
