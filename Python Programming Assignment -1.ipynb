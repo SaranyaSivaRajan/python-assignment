{
 "cells": [
  {
   "cell_type": "code",
   "execution_count": 2,
   "id": "4c9a8a55",
   "metadata": {},
   "outputs": [
    {
     "name": "stdout",
     "output_type": "stream",
     "text": [
      "Hello Python\n"
     ]
    }
   ],
   "source": [
    "# 1. Write a Python program to print \"Hello Python\"\n",
    "a = \"Hello Python\"\n",
    "print (a)\n"
   ]
  },
  {
   "cell_type": "code",
   "execution_count": 5,
   "id": "f1e9b01a",
   "metadata": {},
   "outputs": [
    {
     "name": "stdout",
     "output_type": "stream",
     "text": [
      "sum of two numbers is: 120\n",
      "quotient of two numbers is: 5.0\n"
     ]
    }
   ],
   "source": [
    "# 2. Write a Python program to do arithmetical operations addition and division.?\n",
    "a = 100\n",
    "b = 20\n",
    "c = a + b\n",
    "d = a / b\n",
    "print(\"sum of two numbers is:\",c)\n",
    "print(\"quotient of two numbers is:\",d)"
   ]
  },
  {
   "cell_type": "code",
   "execution_count": 3,
   "id": "fa909d49",
   "metadata": {},
   "outputs": [
    {
     "name": "stdout",
     "output_type": "stream",
     "text": [
      "Enter the first number: 20\n",
      "Enter the second number: 10\n",
      "The sum is:  30\n",
      "The quotient is:  2.0\n"
     ]
    }
   ],
   "source": [
    "a = int(input(\"Enter the first number: \"))\n",
    "b = int(input(\"Enter the second number: \"))\n",
    "c = a + b\n",
    "print(\"The sum is: \", c)\n",
    "d = a / b\n",
    "print(\"The quotient is: \", d)"
   ]
  },
  {
   "cell_type": "code",
   "execution_count": 12,
   "id": "a0f4062b",
   "metadata": {},
   "outputs": [
    {
     "name": "stdout",
     "output_type": "stream",
     "text": [
      "enter the base\n",
      "3\n",
      "enter the height\n",
      "4\n",
      "area of the triangle is: 6.0\n"
     ]
    }
   ],
   "source": [
    "# 3. Write a Python program to find the area of a triangle?\n",
    "\n",
    "print(\"enter the base\")\n",
    "b = int(input())\n",
    "\n",
    "print(\"enter the height\")\n",
    "h = int(input())\n",
    "\n",
    "a = 0.5*b*h\n",
    "print(\"area of the triangle is:\",a)"
   ]
  },
  {
   "cell_type": "code",
   "execution_count": 1,
   "id": "ffe8cf60",
   "metadata": {},
   "outputs": [
    {
     "name": "stdout",
     "output_type": "stream",
     "text": [
      "Value of x: 55\n",
      "Value of y: 45\n"
     ]
    }
   ],
   "source": [
    "# 4. Write a Python program to swap two variables?\n",
    "\n",
    "# using XOR gate\n",
    "\n",
    "x = 45\n",
    "y = 55\n",
    "x = x ^ y\n",
    "y = x ^ y\n",
    "x = x ^ y\n",
    "print(\"Value of x:\", x)\n",
    "print(\"Value of y:\", y)"
   ]
  },
  {
   "cell_type": "code",
   "execution_count": 3,
   "id": "c26c3bc7",
   "metadata": {},
   "outputs": [
    {
     "name": "stdout",
     "output_type": "stream",
     "text": [
      "-6\n"
     ]
    }
   ],
   "source": [
    "# 5. Write a Python program to generate a random number?\n",
    "\n",
    "import random\n",
    "print(random.randint(-45,100))"
   ]
  },
  {
   "cell_type": "code",
   "execution_count": null,
   "id": "4408581c",
   "metadata": {},
   "outputs": [],
   "source": []
  }
 ],
 "metadata": {
  "kernelspec": {
   "display_name": "Python 3 (ipykernel)",
   "language": "python",
   "name": "python3"
  },
  "language_info": {
   "codemirror_mode": {
    "name": "ipython",
    "version": 3
   },
   "file_extension": ".py",
   "mimetype": "text/x-python",
   "name": "python",
   "nbconvert_exporter": "python",
   "pygments_lexer": "ipython3",
   "version": "3.9.12"
  }
 },
 "nbformat": 4,
 "nbformat_minor": 5
}
