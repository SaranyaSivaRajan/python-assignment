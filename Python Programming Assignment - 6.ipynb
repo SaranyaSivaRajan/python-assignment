{
 "cells": [
  {
   "cell_type": "code",
   "execution_count": 90,
   "id": "da68354d",
   "metadata": {},
   "outputs": [
    {
     "name": "stdout",
     "output_type": "stream",
     "text": [
      "How many terms to be generated? 6\n",
      "[0, 1, 1, 2, 3, 5]\n"
     ]
    }
   ],
   "source": [
    "# 1. Write a Python Program to Display Fibonacci Sequence Using Recursion?\n",
    "\n",
    "# using for loop:\n",
    "\n",
    "n= int(input(\"How many terms to be generated? \"))   \n",
    "a = 0\n",
    "b = 1\n",
    "l = []                 \n",
    "for i in range(n):\n",
    "    l.append(a)\n",
    "    a, b = b, a+b\n",
    "    \n",
    "print(l)             "
   ]
  },
  {
   "cell_type": "code",
   "execution_count": 91,
   "id": "b7e2c17c",
   "metadata": {},
   "outputs": [
    {
     "name": "stdout",
     "output_type": "stream",
     "text": [
      "How many terms to be generated? 6\n",
      "Fibonacci sequence:\n",
      "0\n",
      "1\n",
      "1\n",
      "2\n",
      "3\n",
      "5\n"
     ]
    }
   ],
   "source": [
    "# using recursion:\n",
    "\n",
    "n = int(input(\"How many terms to be generated? \")) \n",
    "\n",
    "def fibo(n):  \n",
    "    if n <= 1:  \n",
    "        return n  \n",
    "    else:  \n",
    "        return(fibo(n-1) + fibo(n-2))  \n",
    "if n <= 0:  \n",
    "    print(\"Please enter a positive integer\")  \n",
    "else:  \n",
    "    print(\"Fibonacci sequence:\")  \n",
    "    for i in range(n):  \n",
    "        print(fibo(i))  "
   ]
  },
  {
   "cell_type": "code",
   "execution_count": 36,
   "id": "562e30d9",
   "metadata": {},
   "outputs": [
    {
     "name": "stdout",
     "output_type": "stream",
     "text": [
      "Enter the number : 8\n",
      "The factorial of 8 is 40320\n"
     ]
    }
   ],
   "source": [
    "# 2. Write a Python Program to Find Factorial of Number Using Recursion?\n",
    "\n",
    "\n",
    "n = int(input(\"Enter the number : \"))\n",
    "\n",
    "if n < 0:\n",
    "    print(\"factorial does not exist for negative numbers\")\n",
    "elif n == 0:\n",
    "    print(\"The factorial of 0 is 1\")\n",
    "else:\n",
    "    print(\"The factorial of\", n, \"is\", fact(n))\n",
    "    \n",
    "def fact(n):\n",
    "    if n == 1:\n",
    "        return n\n",
    "    else:\n",
    "        return n*fact(n-1)\n",
    "\n"
   ]
  },
  {
   "cell_type": "code",
   "execution_count": 67,
   "id": "61e4e486",
   "metadata": {},
   "outputs": [
    {
     "name": "stdout",
     "output_type": "stream",
     "text": [
      "Enter height in meters: 1.58\n",
      "Enter weight in kg: 61\n",
      "Calculated BMI is:  24.44\n"
     ]
    }
   ],
   "source": [
    "# 3. Write a Python Program to calculate your Body Mass Index?\n",
    "\n",
    "h = float(input(\"Enter height in meters: \"))\n",
    "\n",
    "w = float(input(\"Enter weight in kg: \"))\n",
    "\n",
    "bmi = round(w/(h**2),2)\n",
    "\n",
    "print(\"Calculated BMI is: \", bmi)"
   ]
  },
  {
   "cell_type": "code",
   "execution_count": 75,
   "id": "8789e169",
   "metadata": {},
   "outputs": [
    {
     "name": "stdout",
     "output_type": "stream",
     "text": [
      "0.0\n",
      "0.0\n",
      "0.6931471805599453\n"
     ]
    }
   ],
   "source": [
    "# 4. Write a Python Program to calculate the natural logarithm of any number?\n",
    "\n",
    "\n",
    "import numpy\n",
    "\n",
    "log = numpy.log(1)\n",
    "\n",
    "print(log)\n",
    "        \n",
    "import math\n",
    "\n",
    "log = math.log(1)\n",
    "\n",
    "print(log)\n",
    "\n",
    "import numpy\n",
    "\n",
    "log = numpy.log(2)\n",
    "\n",
    "print(log)\n",
    "\n",
    "        \n",
    "        \n"
   ]
  },
  {
   "cell_type": "code",
   "execution_count": 61,
   "id": "ce38b82b",
   "metadata": {},
   "outputs": [
    {
     "name": "stdout",
     "output_type": "stream",
     "text": [
      " The sum of first 10 natural numbers is : 3025\n"
     ]
    }
   ],
   "source": [
    "# 5. Write a Python Program for cube sum of first n natural numbers?\n",
    "\n",
    "def sumcube(n):\n",
    "    if n == 1:\n",
    "        return (n)\n",
    "    else:\n",
    "        return (n**3 + sumcube(n - 1))\n",
    "print(\" The sum of first 10 natural numbers is :\" , sumcube(10))\n"
   ]
  },
  {
   "cell_type": "code",
   "execution_count": null,
   "id": "723bb375",
   "metadata": {},
   "outputs": [],
   "source": []
  },
  {
   "cell_type": "code",
   "execution_count": null,
   "id": "b9fc85af",
   "metadata": {},
   "outputs": [],
   "source": []
  }
 ],
 "metadata": {
  "kernelspec": {
   "display_name": "Python 3 (ipykernel)",
   "language": "python",
   "name": "python3"
  },
  "language_info": {
   "codemirror_mode": {
    "name": "ipython",
    "version": 3
   },
   "file_extension": ".py",
   "mimetype": "text/x-python",
   "name": "python",
   "nbconvert_exporter": "python",
   "pygments_lexer": "ipython3",
   "version": "3.9.12"
  }
 },
 "nbformat": 4,
 "nbformat_minor": 5
}
