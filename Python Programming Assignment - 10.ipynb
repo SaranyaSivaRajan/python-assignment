{
 "cells": [
  {
   "cell_type": "code",
   "execution_count": 15,
   "id": "c3f338df",
   "metadata": {
    "scrolled": true
   },
   "outputs": [
    {
     "name": "stdout",
     "output_type": "stream",
     "text": [
      "Enter the size of the list:5\n",
      "enter the values:3\n",
      "enter the values:5\n",
      "enter the values:78\n",
      "enter the values:7\n",
      "enter the values:5\n",
      "sum of elements in the list is: 98\n"
     ]
    }
   ],
   "source": [
    "# 1. Write a Python program to find sum of elements in list?\n",
    "\n",
    "size = int(input(\"Enter the size of the list:\"))\n",
    "sum = 0\n",
    "for i in range(size):\n",
    "    i = int(input(\"enter the values:\"))\n",
    "    sum = sum + i;\n",
    "print(\"sum of elements in the list is:\", sum)"
   ]
  },
  {
   "cell_type": "code",
   "execution_count": 16,
   "id": "a6b45c48",
   "metadata": {},
   "outputs": [
    {
     "name": "stdout",
     "output_type": "stream",
     "text": [
      "Enter the size of the list:3\n",
      "enter the values:2\n",
      "enter the values:3\n",
      "enter the values:4\n",
      "product of elements in the list is: 24\n"
     ]
    }
   ],
   "source": [
    "# 2. Write a Python program to Multiply all numbers in the list?\n",
    "\n",
    "size = int(input(\"Enter the size of the list:\"))\n",
    "product = 1\n",
    "for i in range(size):\n",
    "    i = int(input(\"enter the values:\"))\n",
    "    product = product * i;\n",
    "print(\"product of elements in the list is:\", product)"
   ]
  },
  {
   "cell_type": "code",
   "execution_count": 21,
   "id": "e3870f1e",
   "metadata": {},
   "outputs": [
    {
     "name": "stdout",
     "output_type": "stream",
     "text": [
      "Enter the number of elements in the list: 5\n",
      "Enter the elements: 3\n",
      "Enter the elements: 4\n",
      "Enter the elements: 2\n",
      "Enter the elements: 7\n",
      "Enter the elements: 1\n",
      "The smallest element in the list is: 1\n"
     ]
    }
   ],
   "source": [
    "# 3. Write a Python program to find smallest number in a list?\n",
    "\n",
    "\n",
    "list = []\n",
    "size = int(input(\"Enter the number of elements in the list: \"))\n",
    " \n",
    "for i in range(0, size):\n",
    "    values = int(input(\"Enter the elements: \"))\n",
    "    list.append(values)\n",
    "     \n",
    "print(\"The smallest element in the list is:\", min(list))"
   ]
  },
  {
   "cell_type": "code",
   "execution_count": 23,
   "id": "4bc71381",
   "metadata": {},
   "outputs": [
    {
     "name": "stdout",
     "output_type": "stream",
     "text": [
      "Enter the size of the list:5\n",
      "Enter the elements: 3\n",
      "Enter the elements: 400\n",
      "Enter the elements: 100\n",
      "Enter the elements: 555\n",
      "Enter the elements: 4242\n",
      "The largest number in the list is:  4242\n"
     ]
    }
   ],
   "source": [
    "# 4. Write a Python program to find largest number in a list?\n",
    "\n",
    "list = []\n",
    "size = int(input(\"Enter the size of the list:\"))\n",
    "\n",
    "for i in range(0,size):\n",
    "    values = int(input(\"Enter the elements: \"))\n",
    "    list.append(values)\n",
    "print(\"The largest number in the list is: \", max(list))"
   ]
  },
  {
   "cell_type": "code",
   "execution_count": 28,
   "id": "7d868044",
   "metadata": {},
   "outputs": [
    {
     "name": "stdout",
     "output_type": "stream",
     "text": [
      "Enter the size of the list:5\n",
      "Enter the elements: 35\n",
      "Enter the elements: 40\n",
      "Enter the elements: 25\n",
      "Enter the elements: 15\n",
      "Enter the elements: 100\n",
      "The second largest value in the list is: 25\n"
     ]
    }
   ],
   "source": [
    "# 5. Write a Python program to find second largest number in a list?\n",
    "\n",
    "list = []\n",
    "size = int(input(\"Enter the size of the list:\"))\n",
    "\n",
    "for i in range(0,size):\n",
    "    values = int(input(\"Enter the elements: \"))\n",
    "    list.append(values)\n",
    "\n",
    "list.sort()\n",
    "print(\"The second largest value in the list is:\", list[1])"
   ]
  },
  {
   "cell_type": "code",
   "execution_count": 29,
   "id": "0e938b6e",
   "metadata": {},
   "outputs": [
    {
     "name": "stdout",
     "output_type": "stream",
     "text": [
      "Enter the size of the list:5\n",
      "Enter the values:32\n",
      "Enter the values:67\n",
      "Enter the values:33\n",
      "Enter the values:78\n",
      "Enter the values:90\n",
      "The Nth largest element in the array is: 90\n"
     ]
    }
   ],
   "source": [
    "# 6. Write a Python program to find N largest elements from a list?\n",
    "\n",
    "list = []\n",
    "size = int(input(\"Enter the size of the list:\"))\n",
    "for i in range(0,size):\n",
    "    values = int(input(\"Enter the values:\"))\n",
    "    list.append(values)\n",
    "\n",
    "list.sort()\n",
    "print(\"The Nth largest element in the array is:\", max(list))\n"
   ]
  },
  {
   "cell_type": "code",
   "execution_count": 4,
   "id": "72adef53",
   "metadata": {},
   "outputs": [
    {
     "name": "stdout",
     "output_type": "stream",
     "text": [
      "The even numbers are: [0, 2, 4, 6, 8]\n"
     ]
    }
   ],
   "source": [
    "# 7. Write a Python program to print even numbers in a list?\n",
    "\n",
    "list = []\n",
    "for i in range(0,10):\n",
    "    if (i % 2 == 0):\n",
    "        list.append(i)\n",
    "print(\"The even numbers are:\",list)"
   ]
  },
  {
   "cell_type": "code",
   "execution_count": 1,
   "id": "e5975aac",
   "metadata": {},
   "outputs": [
    {
     "name": "stdout",
     "output_type": "stream",
     "text": [
      "The odd numbers are: [1, 3, 5, 7, 9, 11, 13, 15, 17, 19]\n"
     ]
    }
   ],
   "source": [
    "# 8. Write a Python program to print odd numbers in a List?\n",
    "\n",
    "list = []\n",
    "for i in range(0,20):\n",
    "    if (i % 2 != 0):\n",
    "        list.append(i)\n",
    "print(\"The odd numbers are:\",list)\n"
   ]
  },
  {
   "cell_type": "code",
   "execution_count": 13,
   "id": "1ebde96d",
   "metadata": {},
   "outputs": [
    {
     "name": "stdout",
     "output_type": "stream",
     "text": [
      "The original list1 is:  ['Python', [], [1, 2, 3, 4, 5, 6], 'MI', 'CV', [], 'success', []]\n",
      "The contents of list2 are:  ['Python', [1, 2, 3, 4, 5, 6], 'MI', 'CV', 'success']\n"
     ]
    }
   ],
   "source": [
    "# 9. Write a Python program to Remove empty List from List?\n",
    " \n",
    "list1 = [\"Python\", [], [1,2,3,4,5,6], \"MI\", \"CV\", [], \"success\", []]\n",
    "# the above list has 3 empty lists\n",
    "print(\"The original list1 is: \" , list1 )\n",
    "\n",
    "list2 = []\n",
    "\n",
    "for i in list1:\n",
    "    if i != []:\n",
    "        list2.append(i)\n",
    "print(\"The contents of list2 are: \", list2)"
   ]
  },
  {
   "cell_type": "code",
   "execution_count": 50,
   "id": "97487a92",
   "metadata": {},
   "outputs": [
    {
     "name": "stdout",
     "output_type": "stream",
     "text": [
      "The Original List is: [4, 8, 2, 10, 15, 18]\n",
      "The Cloned list is: [4, 8, 2, 10, 15, 18]\n"
     ]
    }
   ],
   "source": [
    "# 10. Write a Python program to Cloning or Copying a list?\n",
    "\n",
    "def Cloning_list(list):\n",
    "    li_copy = list[:]\n",
    "    return li_copy\n",
    "\n",
    " \n",
    "list1 = [4, 8, 2, 10, 15, 18]\n",
    "list2 = Cloning_list(list1)\n",
    "print(\"The Original List is:\", list1)\n",
    "print(\"The Cloned list is:\", list2)"
   ]
  },
  {
   "cell_type": "code",
   "execution_count": 51,
   "id": "5806da77",
   "metadata": {},
   "outputs": [
    {
     "name": "stdout",
     "output_type": "stream",
     "text": [
      "The list is: [1, 1, 1, 2, 2, 2, 2, 2, 3, 3, 3, 3, 4, 4, 4, 4, 4, 4, 5, 5, 5, 5, 5, 5]\n",
      "Enter the element to be counted:5\n",
      "5 has occured 6 times in the list\n"
     ]
    }
   ],
   "source": [
    "# 11. Write a Python program to Count occurrences of an element in a list?\n",
    "\n",
    "list = [1,1,1,2,2,2,2,2,3,3,3,3,4,4,4,4,4,4,5,5,5,5,5,5,]\n",
    "print(\"The list is:\", list)\n",
    "n = int(input(\"Enter the element to be counted:\"))\n",
    "print(n,\"has occured\", list.count(n), \"times in the list\")\n",
    "\n"
   ]
  },
  {
   "cell_type": "code",
   "execution_count": 40,
   "id": "0e930cfa",
   "metadata": {},
   "outputs": [
    {
     "name": "stdout",
     "output_type": "stream",
     "text": [
      "Element Count\n",
      "a     2\n",
      "2     2\n",
      "3     2\n",
      "4     2\n",
      "5     2\n",
      "a2    1\n",
      "dtype: int64\n"
     ]
    }
   ],
   "source": [
    "import pandas as pd\n",
    " \n",
    "# declaring the list\n",
    "list = [\"a\", \"a\", \"a2\", 2, 2, 3, 3, 4, 4, 5, 5]\n",
    " \n",
    "count = pd.Series(list).value_counts()\n",
    "print(\"Element Count\")\n",
    "print(count)\n"
   ]
  },
  {
   "cell_type": "code",
   "execution_count": 52,
   "id": "cd86e52d",
   "metadata": {},
   "outputs": [
    {
     "name": "stdout",
     "output_type": "stream",
     "text": [
      "The Original List is: [4, 8, 2, 10, 15, 18]\n",
      "The Cloned list is: [4, 8, 2, 10, 15, 18]\n"
     ]
    }
   ],
   "source": [
    "list1 = [4, 8, 2, 10, 15, 18]\n",
    "list2 = list1\n",
    "print(\"The Original List is:\", list1)\n",
    "print(\"The Cloned list is:\", list2)"
   ]
  },
  {
   "cell_type": "code",
   "execution_count": null,
   "id": "d014a31e",
   "metadata": {},
   "outputs": [],
   "source": []
  }
 ],
 "metadata": {
  "kernelspec": {
   "display_name": "Python 3 (ipykernel)",
   "language": "python",
   "name": "python3"
  },
  "language_info": {
   "codemirror_mode": {
    "name": "ipython",
    "version": 3
   },
   "file_extension": ".py",
   "mimetype": "text/x-python",
   "name": "python",
   "nbconvert_exporter": "python",
   "pygments_lexer": "ipython3",
   "version": "3.9.12"
  }
 },
 "nbformat": 4,
 "nbformat_minor": 5
}
