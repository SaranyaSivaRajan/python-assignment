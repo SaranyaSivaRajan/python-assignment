{
 "cells": [
  {
   "cell_type": "markdown",
   "id": "d37e51ee",
   "metadata": {},
   "source": [
    "1. What exactly is []?\n",
    "    \n",
    "        [] is index brackets used in list datatype in python. List is a mutable and dynamic datatype and [] is used to \n",
    "        assingn  values to  the list and also to perform various indexing, slicing operation."
   ]
  },
  {
   "cell_type": "markdown",
   "id": "bcf2b956",
   "metadata": {},
   "source": [
    "2. In a list of values stored in a variable called spam, how would you assign the value 'hello' as \n",
    "   the third value? (Assume [2, 4, 6, 8, 10] are in spam.)"
   ]
  },
  {
   "cell_type": "code",
   "execution_count": 3,
   "id": "2c9c1f0e",
   "metadata": {},
   "outputs": [
    {
     "data": {
      "text/plain": [
       "[2, 4, 'hello', 8, 10]"
      ]
     },
     "execution_count": 3,
     "metadata": {},
     "output_type": "execute_result"
    }
   ],
   "source": [
    "spam = [2,4,6,8,10]\n",
    "spam[2] = \"hello\"\n",
    "spam"
   ]
  },
  {
   "cell_type": "markdown",
   "id": "e07e7052",
   "metadata": {},
   "source": [
    "Let's pretend the spam includes the list ['a','b','c','d'] for the next three queries."
   ]
  },
  {
   "cell_type": "markdown",
   "id": "2de7da9d",
   "metadata": {},
   "source": [
    "3. What is the value of spam[int(int('3'*2)/11)]?"
   ]
  },
  {
   "cell_type": "code",
   "execution_count": 4,
   "id": "10715e8e",
   "metadata": {},
   "outputs": [
    {
     "data": {
      "text/plain": [
       "'d'"
      ]
     },
     "execution_count": 4,
     "metadata": {},
     "output_type": "execute_result"
    }
   ],
   "source": [
    "spam = ['a','b','c','d']\n",
    "spam[int(int('3'*2)/11)]"
   ]
  },
  {
   "cell_type": "markdown",
   "id": "7267729f",
   "metadata": {},
   "source": [
    "4. What is the value of spam[-1]?"
   ]
  },
  {
   "cell_type": "code",
   "execution_count": 5,
   "id": "b0d60d90",
   "metadata": {},
   "outputs": [
    {
     "data": {
      "text/plain": [
       "'d'"
      ]
     },
     "execution_count": 5,
     "metadata": {},
     "output_type": "execute_result"
    }
   ],
   "source": [
    "spam[-1]"
   ]
  },
  {
   "cell_type": "markdown",
   "id": "07c02ddf",
   "metadata": {},
   "source": [
    "5. What is the value of spam[:2]?"
   ]
  },
  {
   "cell_type": "code",
   "execution_count": 6,
   "id": "7147a92b",
   "metadata": {},
   "outputs": [
    {
     "data": {
      "text/plain": [
       "['a', 'b']"
      ]
     },
     "execution_count": 6,
     "metadata": {},
     "output_type": "execute_result"
    }
   ],
   "source": [
    "spam[:2]"
   ]
  },
  {
   "cell_type": "markdown",
   "id": "a2077ad7",
   "metadata": {},
   "source": [
    "Let's pretend bacon has the list [3.14, 'cat', 11, 'cat', True] for the next three questions."
   ]
  },
  {
   "cell_type": "markdown",
   "id": "02ed87c2",
   "metadata": {},
   "source": [
    "6. What is the value of bacon.index('cat')?"
   ]
  },
  {
   "cell_type": "code",
   "execution_count": 7,
   "id": "131ff1d5",
   "metadata": {},
   "outputs": [
    {
     "data": {
      "text/plain": [
       "1"
      ]
     },
     "execution_count": 7,
     "metadata": {},
     "output_type": "execute_result"
    }
   ],
   "source": [
    "bacon = [3.14,'cat',11, 'cat',True]\n",
    "bacon.index('cat')"
   ]
  },
  {
   "cell_type": "markdown",
   "id": "d15ab14f",
   "metadata": {},
   "source": [
    "7. How does bacon.append(99) change the look of the list value in bacon?"
   ]
  },
  {
   "cell_type": "code",
   "execution_count": 12,
   "id": "eea3cd62",
   "metadata": {},
   "outputs": [
    {
     "data": {
      "text/plain": [
       "[3.14, 'cat', 11, 'cat', True, 99, 99, 99, 99]"
      ]
     },
     "execution_count": 12,
     "metadata": {},
     "output_type": "execute_result"
    }
   ],
   "source": [
    "bacon.append(99)\n",
    "bacon #appends the value 99 at the last index each time we execute"
   ]
  },
  {
   "cell_type": "markdown",
   "id": "e5784477",
   "metadata": {},
   "source": [
    "8. How does bacon.remove('cat') change the look of the list in bacon?"
   ]
  },
  {
   "cell_type": "code",
   "execution_count": 13,
   "id": "926beb60",
   "metadata": {},
   "outputs": [
    {
     "data": {
      "text/plain": [
       "[3.14, 11, 'cat', True, 99, 99, 99, 99]"
      ]
     },
     "execution_count": 13,
     "metadata": {},
     "output_type": "execute_result"
    }
   ],
   "source": [
    "bacon.remove('cat')\n",
    "bacon   #removes 'cat' from the first possible index"
   ]
  },
  {
   "cell_type": "markdown",
   "id": "e2842350",
   "metadata": {},
   "source": [
    "9. What are the list concatenation and list replication operators?\n",
    "  \n",
    "   list concatenation operator is +\n",
    "   list replication operator is  *\n",
    "    "
   ]
  },
  {
   "cell_type": "markdown",
   "id": "080069d6",
   "metadata": {},
   "source": [
    "10. What is difference between the list methods append() and insert()?\n",
    "\n",
    "    >> append() helps us to put an item into the list but at the last position. \n",
    "       syntax: \n",
    "       list.append(data)\n",
    "   \n",
    "    >>  insert() helps to put an item into the list but at any index as mentioned.\n",
    "        syntax:\n",
    "        list.insert(index,data)"
   ]
  },
  {
   "cell_type": "markdown",
   "id": "48b4ed86",
   "metadata": {},
   "source": [
    "11. What are the two methods for removing items from a list?\n",
    "   \n",
    "   \n",
    "     list.remove() and list.pop() are the methods used for removing items from a list\n",
    "     \n",
    "     >> list.remove(item):\n",
    "        removes the item mentioned from first possible position.\n",
    "        \n",
    "     >> list.pop(index):\n",
    "        removes the item from the index mentioned."
   ]
  },
  {
   "cell_type": "markdown",
   "id": "c0b43e6f",
   "metadata": {},
   "source": [
    "12. Describe how list values and string values are identical.\n",
    "\n",
    "Both list and string are sequential data, but list is mutable and string is immutable. \n",
    "List has various data types like integer, float, boolean and characters. String data must be mentioned within single or double quotes."
   ]
  },
  {
   "cell_type": "markdown",
   "id": "4d396209",
   "metadata": {},
   "source": [
    "13. What is the difference between tuples and lists?\n",
    "   List and tuple are two different data structures which are used to store multiple data. List is dynamic and mutable whereas tuple is static and immutable."
   ]
  },
  {
   "cell_type": "markdown",
   "id": "cf433a41",
   "metadata": {},
   "source": [
    "14. How do you type a tuple value that only contains the integer 42? "
   ]
  },
  {
   "cell_type": "code",
   "execution_count": 1,
   "id": "c6cc3852",
   "metadata": {},
   "outputs": [],
   "source": [
    "t =(42)"
   ]
  },
  {
   "cell_type": "code",
   "execution_count": 2,
   "id": "45f104df",
   "metadata": {},
   "outputs": [
    {
     "data": {
      "text/plain": [
       "42"
      ]
     },
     "execution_count": 2,
     "metadata": {},
     "output_type": "execute_result"
    }
   ],
   "source": [
    "t"
   ]
  },
  {
   "cell_type": "code",
   "execution_count": 3,
   "id": "86a2f5c2",
   "metadata": {},
   "outputs": [
    {
     "data": {
      "text/plain": [
       "int"
      ]
     },
     "execution_count": 3,
     "metadata": {},
     "output_type": "execute_result"
    }
   ],
   "source": [
    "type(t)"
   ]
  },
  {
   "cell_type": "code",
   "execution_count": 4,
   "id": "4048855b",
   "metadata": {},
   "outputs": [],
   "source": [
    "t=(42,)  # for a tuple with single element we have to put a comma after that element to ensure that it is a tuple"
   ]
  },
  {
   "cell_type": "code",
   "execution_count": 6,
   "id": "6c99f797",
   "metadata": {},
   "outputs": [
    {
     "data": {
      "text/plain": [
       "tuple"
      ]
     },
     "execution_count": 6,
     "metadata": {},
     "output_type": "execute_result"
    }
   ],
   "source": [
    "type(t)"
   ]
  },
  {
   "cell_type": "markdown",
   "id": "be7383fc",
   "metadata": {},
   "source": [
    "15. How do you get a list value's tuple form? How do you get a tuple value's list form?"
   ]
  },
  {
   "cell_type": "code",
   "execution_count": 17,
   "id": "dc5d1d80",
   "metadata": {},
   "outputs": [
    {
     "data": {
      "text/plain": [
       "(3, 4, 5, 6, 'saran', True, 2, 3)"
      ]
     },
     "execution_count": 17,
     "metadata": {},
     "output_type": "execute_result"
    }
   ],
   "source": [
    "# convert list to tuple:\n",
    "\n",
    "l = [3,4,5,6,\"saran\", True, 2,3]\n",
    "t = tuple(l)\n",
    "t"
   ]
  },
  {
   "cell_type": "code",
   "execution_count": 21,
   "id": "32263554",
   "metadata": {},
   "outputs": [
    {
     "data": {
      "text/plain": [
       "[3, 4, 5, 6, 7]"
      ]
     },
     "execution_count": 21,
     "metadata": {},
     "output_type": "execute_result"
    }
   ],
   "source": [
    "# convert tuple to list:\n",
    "\n",
    "tu = (3,4,5,6,7)\n",
    "li = list(tu)\n",
    "li"
   ]
  },
  {
   "cell_type": "markdown",
   "id": "9634d13f",
   "metadata": {},
   "source": [
    "16. Variables that \"contain\" list values are not necessarily lists themselves. Instead, what do they\n",
    "    contain?\n",
    "     \n",
    "      Variables contain the values of a list.\n",
    "      example, v = [1,1,3,4,5]"
   ]
  },
  {
   "cell_type": "markdown",
   "id": "34ac1cf5",
   "metadata": {},
   "source": [
    "17. How do you distinguish between copy.copy() and copy.deepcopy()?\n",
    " \n",
    " copy.copy() is used to perform shallow copy operation in which any change created in the copy brings the same change in the original too\n",
    " \n",
    " copy.deepcopy() is used to perform deep copy operation in which any changes brought to the copy does not affect the original."
   ]
  },
  {
   "cell_type": "code",
   "execution_count": null,
   "id": "5422b7a4",
   "metadata": {},
   "outputs": [],
   "source": []
  }
 ],
 "metadata": {
  "kernelspec": {
   "display_name": "Python 3 (ipykernel)",
   "language": "python",
   "name": "python3"
  },
  "language_info": {
   "codemirror_mode": {
    "name": "ipython",
    "version": 3
   },
   "file_extension": ".py",
   "mimetype": "text/x-python",
   "name": "python",
   "nbconvert_exporter": "python",
   "pygments_lexer": "ipython3",
   "version": "3.9.12"
  }
 },
 "nbformat": 4,
 "nbformat_minor": 5
}
