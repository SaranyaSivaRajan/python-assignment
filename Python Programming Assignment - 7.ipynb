{
 "cells": [
  {
   "cell_type": "code",
   "execution_count": 1,
   "id": "85980a32",
   "metadata": {},
   "outputs": [
    {
     "name": "stdout",
     "output_type": "stream",
     "text": [
      " The sum of the given array of numbers is : 39\n"
     ]
    }
   ],
   "source": [
    "# 1. Write a Python Program to find sum of array?\n",
    "\n",
    "a = [2,4,6,8,9,10]\n",
    "sumofarray = sum(a)\n",
    "print(\" The sum of the given array of numbers is :\", sumofarray)\n"
   ]
  },
  {
   "cell_type": "code",
   "execution_count": 9,
   "id": "9fb49b05",
   "metadata": {},
   "outputs": [
    {
     "name": "stdout",
     "output_type": "stream",
     "text": [
      "The greatest number is :  100\n"
     ]
    }
   ],
   "source": [
    "# 2. Write a Python Program to find largest element in an array?\n",
    "\n",
    "a = [34,21,43,99,45,100]\n",
    "\n",
    "max = a[0]\n",
    "n = len(a)\n",
    "for i in range(n):\n",
    "    if (a[i] > max):\n",
    "        max = a[i]\n",
    "print(\"The greatest number is : \", max)\n",
    "    \n",
    "    "
   ]
  },
  {
   "cell_type": "code",
   "execution_count": 10,
   "id": "f0e9b33a",
   "metadata": {},
   "outputs": [
    {
     "name": "stdout",
     "output_type": "stream",
     "text": [
      "The greatest number in the array is :  100\n"
     ]
    }
   ],
   "source": [
    "a = [23,12,43,40,5,99,100]\n",
    "def greatest(array):\n",
    "    max = a[0]\n",
    "    for i in range(0,len(a)):\n",
    "        if a[i] > max:\n",
    "            max = a[i]\n",
    "        return(max)\n",
    "#greatest(a)\n",
    "print(\"The greatest number in the array is : \", max)"
   ]
  },
  {
   "cell_type": "code",
   "execution_count": 4,
   "id": "b900cc41",
   "metadata": {},
   "outputs": [
    {
     "name": "stdout",
     "output_type": "stream",
     "text": [
      "The array before rotation is : \n",
      " [1, 2, 3, 4, 5, 6]\n",
      "The array after rotation is :\n",
      "[3, 4, 5, 6, 1, 2]\n"
     ]
    }
   ],
   "source": [
    "# 3. Write a Python Program for array rotation?\n",
    "\n",
    "def rotation(a,w,n):\n",
    "    a[:] = a[w:n] + a[0:w]\n",
    "    return a\n",
    "# w from which index?\n",
    "# n length of the array\n",
    "\n",
    "a = [1, 2, 3, 4, 5, 6]\n",
    "print(\"The array before rotation is :\",\"\\n\" ,a)\n",
    "print(\"The array after rotation is :\")\n",
    "print(rotation(a,2,len(a))) "
   ]
  },
  {
   "cell_type": "code",
   "execution_count": 5,
   "id": "aa804777",
   "metadata": {},
   "outputs": [
    {
     "name": "stdout",
     "output_type": "stream",
     "text": [
      "The new array after splitting and adding is: \n",
      " [6, 7, 8, 9, 10, 1, 2, 3, 4, 5]\n"
     ]
    }
   ],
   "source": [
    "# 4. Write a Python Program to Split the array and add the first part to the end?\n",
    "\n",
    "def splitarray(a,w,n):\n",
    "    a[:] = a[w:n] +a[0:w]\n",
    "    return a\n",
    "a = [1,2,3,4,5,6,7,8,9,10]\n",
    "print(\"The new array after splitting and adding is:\" ,\"\\n\",splitarray(a,5,len(a)))"
   ]
  },
  {
   "cell_type": "code",
   "execution_count": 13,
   "id": "8a865fd9",
   "metadata": {},
   "outputs": [
    {
     "name": "stdout",
     "output_type": "stream",
     "text": [
      "Enter the size of the array: 3\n",
      "Enter the 0  value of the array:2\n",
      "Enter the 1  value of the array:3\n",
      "Enter the 2  value of the array:4\n"
     ]
    },
    {
     "data": {
      "text/plain": [
       "True"
      ]
     },
     "execution_count": 13,
     "metadata": {},
     "output_type": "execute_result"
    }
   ],
   "source": [
    "# 5. Write a Python Program to check if given array is Monotonic?\n",
    "\n",
    "def monotonic(a):\n",
    "    status = True;\n",
    "    for i in range(len(a)-1):\n",
    "        if ((a[i] > a[i+1])):\n",
    "            status = False\n",
    "            break;\n",
    "    if(status == False):\n",
    "        status = True;\n",
    "        for i in range(len(a)-1):\n",
    "            if ((a[i] < a[i+1])):\n",
    "                status = False\n",
    "                break;\n",
    "    return status\n",
    "     \n",
    "         \n",
    "monarr = []        \n",
    "s = int(input(\"Enter the size of the array: \"))\n",
    "for i in range(s):\n",
    "    v = int(input(\"Enter the {}  value of the array:\" .format(i)))\n",
    "    monarr.append(v)\n",
    "monotonic(monarr)"
   ]
  },
  {
   "cell_type": "code",
   "execution_count": null,
   "id": "26a4454a",
   "metadata": {},
   "outputs": [],
   "source": []
  }
 ],
 "metadata": {
  "kernelspec": {
   "display_name": "Python 3 (ipykernel)",
   "language": "python",
   "name": "python3"
  },
  "language_info": {
   "codemirror_mode": {
    "name": "ipython",
    "version": 3
   },
   "file_extension": ".py",
   "mimetype": "text/x-python",
   "name": "python",
   "nbconvert_exporter": "python",
   "pygments_lexer": "ipython3",
   "version": "3.9.12"
  }
 },
 "nbformat": 4,
 "nbformat_minor": 5
}
