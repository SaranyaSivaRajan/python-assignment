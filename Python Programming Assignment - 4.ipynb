{
 "cells": [
  {
   "cell_type": "code",
   "execution_count": 15,
   "id": "91e3ec78",
   "metadata": {},
   "outputs": [
    {
     "name": "stdout",
     "output_type": "stream",
     "text": [
      "Enter the number :5\n",
      "Factorial of  5  is:  120\n"
     ]
    }
   ],
   "source": [
    "# 1. Write a Python Program to Find the Factorial of a Number?\n",
    "\n",
    "# using for loop:\n",
    "\n",
    "n = int(input (\"Enter the number :\"))\n",
    "\n",
    "factorial = 1\n",
    "\n",
    "if n < 0:\n",
    "    print (\"Factorial cannot be calculated for non-integer input\")\n",
    "\n",
    "elif n == 0:\n",
    "    print (\"Factorial of the number is 1\")\n",
    "\n",
    "else:\n",
    "    for i in range (1, n+1):\n",
    "        factorial = factorial *i\n",
    "print (\"Factorial of \", n,\" is: \", factorial)\n"
   ]
  },
  {
   "cell_type": "code",
   "execution_count": 16,
   "id": "c0e03575",
   "metadata": {},
   "outputs": [
    {
     "name": "stdout",
     "output_type": "stream",
     "text": [
      "Enter the number :5\n",
      "The factorial of  5  is :  120\n"
     ]
    }
   ],
   "source": [
    "# factorial using inbuild functions:\n",
    "\n",
    "import math\n",
    "\n",
    "n = int(input(\"Enter the number :\"))\n",
    "\n",
    "print(\"The factorial of \", n,\" is : \", math.factorial (n))\n"
   ]
  },
  {
   "cell_type": "code",
   "execution_count": 18,
   "id": "be2a66d8",
   "metadata": {},
   "outputs": [
    {
     "name": "stdout",
     "output_type": "stream",
     "text": [
      "Enter the table number :78\n",
      "78 x 1 = 78\n",
      "78 x 2 = 156\n",
      "78 x 3 = 234\n",
      "78 x 4 = 312\n",
      "78 x 5 = 390\n",
      "78 x 6 = 468\n",
      "78 x 7 = 546\n",
      "78 x 8 = 624\n",
      "78 x 9 = 702\n",
      "78 x 10 = 780\n"
     ]
    }
   ],
   "source": [
    "# 2. Write a Python Program to Display the multiplication Table?\n",
    "\n",
    "n = int(input(\"Enter the table number :\"))\n",
    "for i in range(1, 11):\n",
    "    print(n, 'x', i, '=', n*i)"
   ]
  },
  {
   "cell_type": "code",
   "execution_count": 10,
   "id": "b3152e64",
   "metadata": {},
   "outputs": [
    {
     "name": "stdout",
     "output_type": "stream",
     "text": [
      "Enter the number of Fibonacci sequence: 5\n",
      "Fibonacci sequence upto  5 :\n",
      "0\n",
      "1\n",
      "1\n",
      "2\n",
      "3\n"
     ]
    }
   ],
   "source": [
    "# 3. Write a Python Program to Print the Fibonacci sequence?\n",
    "\n",
    "n = int(input(\"Enter the number of Fibonacci sequence: \"))\n",
    "\n",
    "n1, n2 = 0, 1\n",
    "count = 0\n",
    "\n",
    "if n <= 0:\n",
    "    print(\"Please enter a positive integer\")\n",
    "\n",
    "elif n == 1:\n",
    "    print(\"Fibonacci sequence upto \",n,\":\")\n",
    "    print(n1)\n",
    "\n",
    "else:\n",
    "    print(\"Fibonacci sequence upto \",n,\":\")\n",
    "    while count < n:\n",
    "        print(n1)\n",
    "        nth = n1 + n2\n",
    "       \n",
    "        n1 = n2\n",
    "        n2 = nth\n",
    "        count += 1"
   ]
  },
  {
   "cell_type": "code",
   "execution_count": 2,
   "id": "e60c486a",
   "metadata": {},
   "outputs": [
    {
     "name": "stdout",
     "output_type": "stream",
     "text": [
      "Enter the number :  407\n",
      "The given number 407 is an armstrong number\n"
     ]
    }
   ],
   "source": [
    "# 4. Write a Python Program to Check Armstrong Number?\n",
    "\n",
    "n = int(input(\"Enter the number :  \"))\n",
    "sum = n  \n",
    "b = len(str(n))\n",
    "sum1 = 0\n",
    "while n != 0:\n",
    "    r = n % 10\n",
    "    sum1 = sum1 + (r**b)\n",
    "    n = n // 10\n",
    "if sum == sum1:\n",
    "    print(\"The given number\", sum, \"is an armstrong number\")\n",
    "else:\n",
    "    print(\"The given number\", sum, \"is not an armstrong number\")"
   ]
  },
  {
   "cell_type": "code",
   "execution_count": 3,
   "id": "16e44a77",
   "metadata": {},
   "outputs": [
    {
     "name": "stdout",
     "output_type": "stream",
     "text": [
      "Enter a number : 5\n",
      "15\n"
     ]
    }
   ],
   "source": [
    "# 6. Write a Python Program to Find the Sum of Natural Numbers?\n",
    "\n",
    "n = int(input(\"Enter a number : \"))\n",
    "sum = (n* (n+1) // 2)\n",
    "print(sum)"
   ]
  },
  {
   "cell_type": "code",
   "execution_count": null,
   "id": "d7474fd8",
   "metadata": {},
   "outputs": [],
   "source": []
  }
 ],
 "metadata": {
  "kernelspec": {
   "display_name": "Python 3 (ipykernel)",
   "language": "python",
   "name": "python3"
  },
  "language_info": {
   "codemirror_mode": {
    "name": "ipython",
    "version": 3
   },
   "file_extension": ".py",
   "mimetype": "text/x-python",
   "name": "python",
   "nbconvert_exporter": "python",
   "pygments_lexer": "ipython3",
   "version": "3.9.12"
  }
 },
 "nbformat": 4,
 "nbformat_minor": 5
}
