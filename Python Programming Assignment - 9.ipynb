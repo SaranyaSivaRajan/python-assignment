{
 "cells": [
  {
   "cell_type": "code",
   "execution_count": 10,
   "id": "16f23861",
   "metadata": {},
   "outputs": [
    {
     "name": "stdout",
     "output_type": "stream",
     "text": [
      "Enter the number:345\n",
      "345 is not a disarium number\n"
     ]
    }
   ],
   "source": [
    "# 1. Write a Python program to check if the given number is a Disarium Number?\n",
    "\n",
    "# A number is called Disarium if sum of its digits powered with their respective positions is equal to the number itself.\n",
    "# eg., 135.  1^1 + 3^2 +5^3 = 135\n",
    "\n",
    "# first calculate the number of digits:\n",
    "\n",
    "def calculate_length(n):    \n",
    "    length = 0;    \n",
    "    while(n != 0):    \n",
    "        length = length + 1;    \n",
    "        n = n//10;    \n",
    "    return length;    \n",
    "     \n",
    "#num = 175;\n",
    "num = int(input(\"Enter the number:\"))\n",
    "rem = sum = 0;    \n",
    "len = calculate_length(num);    \n",
    "     \n",
    "    \n",
    "n = num;    \n",
    "        \n",
    "while(num > 0):    \n",
    "    rem = num%10;    \n",
    "    sum = sum + int(rem**len);    \n",
    "    num = num//10;    \n",
    "    len = len - 1;    \n",
    "     \n",
    "    \n",
    "if(sum == n):    \n",
    "    print(str(n) + \" is a disarium number\");    \n",
    "else:    \n",
    "    print(str(n) + \" is not a disarium number\");    "
   ]
  },
  {
   "cell_type": "code",
   "execution_count": 7,
   "id": "d1d66ca9",
   "metadata": {},
   "outputs": [
    {
     "name": "stdout",
     "output_type": "stream",
     "text": [
      "The disarium numbers between 1 and 100 are: \n",
      "1  2  3  4  5  6  7  8  9  89  "
     ]
    }
   ],
   "source": [
    "# 2. Write a Python program to print all disarium numbers between 1 to 100?\n",
    "\n",
    "   \n",
    "def calculate_length(n):    \n",
    "    length = 0;    \n",
    "    while(n != 0):    \n",
    "        length = length + 1;    \n",
    "        n = n//10;    \n",
    "    return length;    \n",
    "     \n",
    "    \n",
    "def is_disarium(num):    \n",
    "    rem = sum = 0;    \n",
    "    len = calculate_length(num);    \n",
    "        \n",
    "    while(num > 0):    \n",
    "        rem = num%10;    \n",
    "        sum = sum + (rem**len);    \n",
    "        num = num//10;    \n",
    "        len = len - 1;    \n",
    "    return sum;    \n",
    "      \n",
    "result = 0;    \n",
    "     \n",
    "# disarium numbers between 1 and 100   \n",
    "\n",
    "print(\"The disarium numbers between 1 and 100 are: \");    \n",
    "\n",
    "for i in range(1, 101):    \n",
    "    result = is_disarium(i);    \n",
    "        \n",
    "    if(result == i):    \n",
    "        print(i, end = \"  \")   "
   ]
  },
  {
   "cell_type": "code",
   "execution_count": 8,
   "id": "9d57d44f",
   "metadata": {},
   "outputs": [
    {
     "name": "stdout",
     "output_type": "stream",
     "text": [
      "Enter the number: 23\n",
      "23 is a happy number\n"
     ]
    }
   ],
   "source": [
    "# 3. Write a Python program to check if the given number is Happy Number?\n",
    "\n",
    "#The numbers for which the process of summing up of the squares of its digits ends in 1 are happy numbers,and \n",
    "# numbers that don’t end in 1 are called unhappy or sad numbers.\n",
    "# Integers that stabilize at 1 are called \"happy numbers\" and integers that fall into the loop are called \"unhappy numbers.\n",
    "\n",
    "# Number = 32\n",
    "#  3^2+ 2^2 = 13\n",
    "#  1^2 + 3^2 = 10\n",
    "#  1^2 + 0^2 = 1  ie, happy number\n",
    "\n",
    "def happy_number(num):    \n",
    "    rem = sum = 0;    \n",
    "        \n",
    "    #Calculates the sum of squares of digits    \n",
    "    while(num > 0):    \n",
    "        rem = num % 10;    \n",
    "        sum = sum + (rem*rem);    \n",
    "        num = num // 10;    \n",
    "    return sum;    \n",
    "        \n",
    "num = int(input(\"Enter the number: \"));    \n",
    "result = num;    \n",
    "     \n",
    "while(result != 1 and result != 4):    \n",
    "    result = happy_number(result);    \n",
    "     \n",
    "#Happy number always ends with 1    \n",
    "if(result == 1):    \n",
    "    print(str(num) + \" is a happy number\");  \n",
    "    \n",
    "#Unhappy number ends in a cycle of repeating numbers which contain 4    \n",
    "else:    \n",
    "    print(str(num) + \" is not a happy number\");   "
   ]
  },
  {
   "cell_type": "code",
   "execution_count": 1,
   "id": "1ecdaba9",
   "metadata": {},
   "outputs": [
    {
     "name": "stdout",
     "output_type": "stream",
     "text": [
      "The happy numbers between 1 and 100 are : \n",
      "1  7  10  13  19  23  28  31  32  44  49  68  70  79  82  86  91  94  97  100  "
     ]
    }
   ],
   "source": [
    "# 4. Write a Python program to print all happy numbers between 1 and 100?\n",
    "\n",
    "def happy_number(num):    \n",
    "    rem = sum = 0;    \n",
    "        \n",
    "  \n",
    "    while(num > 0):    \n",
    "        rem = num % 10;    \n",
    "        sum = sum + (rem*rem);    \n",
    "        num = num // 10;    \n",
    "    return sum; \n",
    "\n",
    "print(\"The happy numbers between 1 and 100 are : \");           \n",
    "for i in range(1, 101):    \n",
    "    result =  i;  \n",
    "     \n",
    "    while(result != 1 and result != 4):    \n",
    "        result = happy_number(result);    \n",
    "      \n",
    "   \n",
    "    if(result == 1):    \n",
    "        print(i, end=\"  \") \n",
    "      "
   ]
  },
  {
   "cell_type": "code",
   "execution_count": 2,
   "id": "8cc68bd4",
   "metadata": {},
   "outputs": [
    {
     "name": "stdout",
     "output_type": "stream",
     "text": [
      "Enter the number :156\n",
      "156 is a harshad number\n"
     ]
    }
   ],
   "source": [
    "# 5. Write a Python program to determine whether the given number is a Harshad Number?\n",
    "\n",
    "# A number is said to be the Harshad number if it is divisible by the sum of its digit.\n",
    "# For example, if number is 156, then sum of its digit will be 1 + 5 + 6 = 12\n",
    "\n",
    "\n",
    "num = int(input(\"Enter the number :\"))\n",
    "  \n",
    "rem = sum = 0;    \n",
    "     \n",
    "n = num;    \n",
    "     \n",
    "while(num > 0):    \n",
    "    rem = num % 10;    \n",
    "    sum = sum + rem;    \n",
    "    num = num // 10;    \n",
    "     \n",
    "    \n",
    "if(n % sum == 0):    \n",
    "    print(str(n) + \" is a harshad number\");    \n",
    "\n",
    "else:    \n",
    "    print(str(n) + \" is not a harshad number\");    "
   ]
  },
  {
   "cell_type": "code",
   "execution_count": 14,
   "id": "3bd5ad37",
   "metadata": {},
   "outputs": [
    {
     "name": "stdout",
     "output_type": "stream",
     "text": [
      "Pronic numbers between 1 and 100 are: \n",
      "2 6 12 20 30 42 56 72 90 "
     ]
    }
   ],
   "source": [
    "# 6. Write a Python program to print all pronic numbers between 1 and 100?\n",
    "\n",
    "# A pronic number is a number that is the product of two consecutive integers, that is, a number of the form n(n+1).\n",
    "# The study of these numbers dates back to Aristotle. \n",
    "# They are also called oblong numbers, heteromecic numbers or rectangular numbers.\n",
    "# however, the term \"rectangular number\" has also been applied to the composite numbers.\n",
    "\n",
    "def pronic_number(num):    \n",
    "    flag = False;    \n",
    "        \n",
    "    for i in range(1, num+1):    \n",
    "        #Checks for pronic number by multiplying consecutive numbers    \n",
    "        if((i*(i+1)) == num):    \n",
    "            flag = True;    \n",
    "            break;    \n",
    "    return flag;    \n",
    "     \n",
    "#Displays pronic numbers between 1 and 100    \n",
    "print(\"Pronic numbers between 1 and 100 are: \"); \n",
    "\n",
    "for n in range(1, 101):    \n",
    "    if(pronic_number(n)):    \n",
    "        print(n, end = \" \")    \n",
    "         \n"
   ]
  },
  {
   "cell_type": "code",
   "execution_count": null,
   "id": "52893709",
   "metadata": {},
   "outputs": [],
   "source": []
  },
  {
   "cell_type": "code",
   "execution_count": null,
   "id": "d32c7d0c",
   "metadata": {},
   "outputs": [],
   "source": []
  }
 ],
 "metadata": {
  "kernelspec": {
   "display_name": "Python 3 (ipykernel)",
   "language": "python",
   "name": "python3"
  },
  "language_info": {
   "codemirror_mode": {
    "name": "ipython",
    "version": 3
   },
   "file_extension": ".py",
   "mimetype": "text/x-python",
   "name": "python",
   "nbconvert_exporter": "python",
   "pygments_lexer": "ipython3",
   "version": "3.9.12"
  }
 },
 "nbformat": 4,
 "nbformat_minor": 5
}
