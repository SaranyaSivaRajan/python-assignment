{
 "cells": [
  {
   "cell_type": "code",
   "execution_count": 14,
   "id": "069c7118",
   "metadata": {},
   "outputs": [
    {
     "name": "stdout",
     "output_type": "stream",
     "text": [
      "Enter distance in Kilometers : 2\n",
      "Distance in miles is : 1.242742\n"
     ]
    }
   ],
   "source": [
    "# 1. Write a Python program to convert kilometers to miles?\n",
    "\n",
    "\n",
    "#   1 Km = 0.621371 miles\n",
    "\n",
    "k = int(input(\"Enter distance in Kilometers : \"))\n",
    "m = k * 0.621371\n",
    "print(\"Distance in miles is :\" , m)"
   ]
  },
  {
   "cell_type": "code",
   "execution_count": 19,
   "id": "56b81b86",
   "metadata": {},
   "outputs": [
    {
     "name": "stdout",
     "output_type": "stream",
     "text": [
      "Enter the temperature in degree celcius :34\n",
      "The temperature in fahrenheit is:  93.2 F\n"
     ]
    }
   ],
   "source": [
    "# 2. Write a Python program to convert Celsius to Fahrenheit?\n",
    "\n",
    "#  Fahrenheit = (Celsius * 9/5) + 32\n",
    "\n",
    "c = int(input(\"Enter the temperature in degree celcius :\"))\n",
    "f = (c*(9/5) + 32)\n",
    "print(\"The temperature in fahrenheit is: \", f,\"F\")"
   ]
  },
  {
   "cell_type": "code",
   "execution_count": 1,
   "id": "1a6f769d",
   "metadata": {},
   "outputs": [
    {
     "name": "stdout",
     "output_type": "stream",
     "text": [
      "The calendar of 2013 is : \n",
      "                                  2013\n",
      "\n",
      "      January                   February                   March\n",
      "Mo Tu We Th Fr Sa Su      Mo Tu We Th Fr Sa Su      Mo Tu We Th Fr Sa Su\n",
      "    1  2  3  4  5  6                   1  2  3                   1  2  3\n",
      " 7  8  9 10 11 12 13       4  5  6  7  8  9 10       4  5  6  7  8  9 10\n",
      "14 15 16 17 18 19 20      11 12 13 14 15 16 17      11 12 13 14 15 16 17\n",
      "21 22 23 24 25 26 27      18 19 20 21 22 23 24      18 19 20 21 22 23 24\n",
      "28 29 30 31               25 26 27 28               25 26 27 28 29 30 31\n",
      "\n",
      "       April                      May                       June\n",
      "Mo Tu We Th Fr Sa Su      Mo Tu We Th Fr Sa Su      Mo Tu We Th Fr Sa Su\n",
      " 1  2  3  4  5  6  7             1  2  3  4  5                      1  2\n",
      " 8  9 10 11 12 13 14       6  7  8  9 10 11 12       3  4  5  6  7  8  9\n",
      "15 16 17 18 19 20 21      13 14 15 16 17 18 19      10 11 12 13 14 15 16\n",
      "22 23 24 25 26 27 28      20 21 22 23 24 25 26      17 18 19 20 21 22 23\n",
      "29 30                     27 28 29 30 31            24 25 26 27 28 29 30\n",
      "\n",
      "        July                     August                  September\n",
      "Mo Tu We Th Fr Sa Su      Mo Tu We Th Fr Sa Su      Mo Tu We Th Fr Sa Su\n",
      " 1  2  3  4  5  6  7                1  2  3  4                         1\n",
      " 8  9 10 11 12 13 14       5  6  7  8  9 10 11       2  3  4  5  6  7  8\n",
      "15 16 17 18 19 20 21      12 13 14 15 16 17 18       9 10 11 12 13 14 15\n",
      "22 23 24 25 26 27 28      19 20 21 22 23 24 25      16 17 18 19 20 21 22\n",
      "29 30 31                  26 27 28 29 30 31         23 24 25 26 27 28 29\n",
      "                                                    30\n",
      "\n",
      "      October                   November                  December\n",
      "Mo Tu We Th Fr Sa Su      Mo Tu We Th Fr Sa Su      Mo Tu We Th Fr Sa Su\n",
      "    1  2  3  4  5  6                   1  2  3                         1\n",
      " 7  8  9 10 11 12 13       4  5  6  7  8  9 10       2  3  4  5  6  7  8\n",
      "14 15 16 17 18 19 20      11 12 13 14 15 16 17       9 10 11 12 13 14 15\n",
      "21 22 23 24 25 26 27      18 19 20 21 22 23 24      16 17 18 19 20 21 22\n",
      "28 29 30 31               25 26 27 28 29 30         23 24 25 26 27 28 29\n",
      "                                                    30 31\n"
     ]
    }
   ],
   "source": [
    "# 3. Write a Python program to display calendar?\n",
    "\n",
    "import calendar\n",
    "print (\"The calendar of 2013 is : \")\n",
    "calendar.prcal(2013, 0,1,6)"
   ]
  },
  {
   "cell_type": "code",
   "execution_count": 30,
   "id": "8d479c66",
   "metadata": {},
   "outputs": [
    {
     "name": "stdout",
     "output_type": "stream",
     "text": [
      "Enter the value of a: 3\n",
      "Enter the value of b: 2\n",
      "Enter the value of c: 1\n",
      "The roots are : ((-0.3333333333333333-0.47140452079103173j), (-0.3333333333333333+0.47140452079103173j))\n"
     ]
    }
   ],
   "source": [
    "# 4. Write a Python program to solve quadratic equation?\n",
    "\n",
    "#  quadratic equation is ax2 + bx + c\n",
    "\n",
    "# a, b, and c are coefficient and real numbers and also a ≠ 0.\n",
    "\n",
    "# import complex math module since roots will be complex in case (b*b < 4*a*c)\n",
    "\n",
    "import cmath  \n",
    "a = float(input('Enter the value of a: '))  \n",
    "b = float(input('Enter the value of b: '))  \n",
    "c = float(input('Enter the value of c: '))  \n",
    "    \n",
    "d = (b**2) - (4*a*c)  \n",
    "  \n",
    "# to find the two roots :\n",
    "\n",
    "root1 = (-b-cmath.sqrt(d))/(2*a)  \n",
    "root2 = (-b+cmath.sqrt(d))/(2*a)  \n",
    "print(\"The roots are :\" ,(root1,root2)) "
   ]
  },
  {
   "cell_type": "code",
   "execution_count": 6,
   "id": "d2c02376",
   "metadata": {},
   "outputs": [
    {
     "name": "stdout",
     "output_type": "stream",
     "text": [
      "swapped value of x is : 200\n",
      "swapped value of y is : 100\n"
     ]
    }
   ],
   "source": [
    "# 5. Write a Python program to swap two variables without temp variable?\n",
    "# using XOR gate\n",
    "\n",
    "x = 100\n",
    "y = 200\n",
    "x = x ^ y\n",
    "y = x ^ y\n",
    "x = x ^ y\n",
    "print(\"swapped value of x is :\", x)\n",
    "print(\"swapped value of y is :\", y)\n"
   ]
  },
  {
   "cell_type": "code",
   "execution_count": 7,
   "id": "a59ccc68",
   "metadata": {},
   "outputs": [
    {
     "name": "stdout",
     "output_type": "stream",
     "text": [
      "enter the value of x : 100\n",
      "enter the value of y : 200\n",
      "The value of x after swapping is : 200\n",
      "The value of y after swapping is : 100\n"
     ]
    }
   ],
   "source": [
    "x = int(input(\"enter the value of x : \"))\n",
    "y = int(input(\"enter the value of y : \"))\n",
    "x = x + y\n",
    "y = x - y\n",
    "x = x - y\n",
    "\n",
    "print(\"The value of x after swapping is :\", x)\n",
    "print(\"The value of y after swapping is :\", y)\n"
   ]
  },
  {
   "cell_type": "code",
   "execution_count": null,
   "id": "11c00524",
   "metadata": {},
   "outputs": [],
   "source": []
  }
 ],
 "metadata": {
  "kernelspec": {
   "display_name": "Python 3 (ipykernel)",
   "language": "python",
   "name": "python3"
  },
  "language_info": {
   "codemirror_mode": {
    "name": "ipython",
    "version": 3
   },
   "file_extension": ".py",
   "mimetype": "text/x-python",
   "name": "python",
   "nbconvert_exporter": "python",
   "pygments_lexer": "ipython3",
   "version": "3.9.12"
  }
 },
 "nbformat": 4,
 "nbformat_minor": 5
}
