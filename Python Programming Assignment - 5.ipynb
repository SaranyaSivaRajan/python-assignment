{
 "cells": [
  {
   "cell_type": "code",
   "execution_count": 3,
   "id": "058cb550",
   "metadata": {},
   "outputs": [
    {
     "name": "stdout",
     "output_type": "stream",
     "text": [
      "Enter the first number: 2\n",
      "Enter the second number: 6\n",
      "LCM of the two numbers is:  6\n"
     ]
    }
   ],
   "source": [
    "# 1. Write a Python Program to Find LCM?\n",
    "\n",
    "a = int(input(\"Enter the first number: \"))\n",
    "b = int(input(\"Enter the second number: \"))\n",
    " \n",
    "HCF = 1\n",
    " \n",
    "for i in range(2,a+1):\n",
    "    if(a % i == 0 and b % i == 0):\n",
    "        HCF = i\n",
    "\n",
    "LCM = int((a*b)/(HCF))\n",
    "print(\"LCM of the two numbers is: \",LCM)"
   ]
  },
  {
   "cell_type": "code",
   "execution_count": 4,
   "id": "050607bc",
   "metadata": {},
   "outputs": [
    {
     "name": "stdout",
     "output_type": "stream",
     "text": [
      "Enter the first number: 4\n",
      "Enter the second number: 8\n",
      "HCF of the numbers is:  4\n"
     ]
    }
   ],
   "source": [
    "# 2. Write a Python Program to Find HCF?\n",
    "\n",
    "a = int(input(\"Enter the first number: \"))\n",
    "b = int(input(\"Enter the second number: \"))\n",
    " \n",
    "HCF = 1\n",
    " \n",
    "for i in range(2,a+1):\n",
    "    if(a % i == 0 and b % i == 0):\n",
    "        HCF = i\n",
    "print(\"HCF of the numbers is: \",HCF)"
   ]
  },
  {
   "cell_type": "code",
   "execution_count": 10,
   "id": "3768cd3d",
   "metadata": {},
   "outputs": [
    {
     "name": "stdout",
     "output_type": "stream",
     "text": [
      "Enter the Decimal Number : 10\n",
      "The Binary value of  10 is :  0b1010\n",
      "The Octal value of  10 is :  0o12\n",
      "The Hexadecimal value of  10 is :  0xa\n"
     ]
    }
   ],
   "source": [
    "# 3. Write a Python Program to Convert Decimal to Binary, Octal and Hexadecimal?\n",
    "# built-in functions bin(), oct(), hex()\n",
    "\n",
    "decimal = int(input(\"Enter the Decimal Number : \"))\n",
    "\n",
    "binary = bin(decimal)\n",
    "octal = oct(decimal)\n",
    "hexadecimal = hex(decimal)\n",
    "\n",
    "print(\"The Binary value of \", decimal ,\"is : \" , binary)\n",
    "print(\"The Octal value of \", decimal ,\"is : \" , octal)\n",
    "print(\"The Hexadecimal value of \", decimal ,\"is : \" , hexadecimal)"
   ]
  },
  {
   "cell_type": "code",
   "execution_count": 7,
   "id": "c4aa6c0c",
   "metadata": {},
   "outputs": [
    {
     "name": "stdout",
     "output_type": "stream",
     "text": [
      "Enter the character :A\n",
      "The ASCII value of the character A  is : 65\n"
     ]
    }
   ],
   "source": [
    "# 4. Write a Python Program To Find ASCII value of a character?\n",
    "\n",
    "c = (input(\"Enter the character :\"))\n",
    "print(\"The ASCII value of the character\", c, \" is :\",ord(c))"
   ]
  },
  {
   "cell_type": "code",
   "execution_count": 8,
   "id": "d304407e",
   "metadata": {},
   "outputs": [
    {
     "name": "stdout",
     "output_type": "stream",
     "text": [
      "Select operation: \n",
      "1.Add\n",
      "2.Subtract\n",
      "3.Multiply\n",
      "4.Divide\n",
      "Enter choice(1/2/3/4): 1\n",
      "Enter first number: 2\n",
      "Enter second number: 3\n",
      "2.0 + 3.0 = 5.0\n",
      "Let's do new calculation? (yes/no): y\n",
      "Enter choice(1/2/3/4): 2\n",
      "Enter first number: 3\n",
      "Enter second number: 4\n",
      "3.0 - 4.0 = -1.0\n",
      "Let's do new calculation? (yes/no): y\n",
      "Enter choice(1/2/3/4): 3\n",
      "Enter first number: 3\n",
      "Enter second number: 4\n",
      "3.0 * 4.0 = 12.0\n",
      "Let's do new calculation? (yes/no): y\n",
      "Enter choice(1/2/3/4): 5\n",
      "Invalid Input\n",
      "Enter choice(1/2/3/4): 4\n",
      "Enter first number: 6\n",
      "Enter second number: 7\n",
      "6.0 / 7.0 = 0.8571428571428571\n",
      "Let's do new calculation? (yes/no): no\n"
     ]
    }
   ],
   "source": [
    "# 5. Write a Python Program to Make a Simple Calculator with 4 basic mathematical operation\n",
    "\n",
    "\n",
    "print(\"Select operation: \")\n",
    "print(\"1.Add\")\n",
    "print(\"2.Subtract\")\n",
    "print(\"3.Multiply\")\n",
    "print(\"4.Divide\")\n",
    "\n",
    "while True:\n",
    "\n",
    "    select = input(\"Enter choice(1/2/3/4): \")\n",
    "\n",
    "    if select in ('1', '2', '3', '4'):\n",
    "        num1 = float(input(\"Enter first number: \"))\n",
    "        num2 = float(input(\"Enter second number: \"))\n",
    "\n",
    "        if select == '1':\n",
    "            print(num1, \"+\", num2, \"=\", (num1 + num2))\n",
    "\n",
    "        elif select == '2':\n",
    "            print(num1, \"-\", num2, \"=\", (num1 - num2))\n",
    "\n",
    "        elif select == '3':\n",
    "            print(num1, \"*\", num2, \"=\", (num1 * num2))\n",
    "\n",
    "        elif select == '4':\n",
    "            print(num1, \"/\", num2, \"=\", (num1 / num2))\n",
    "        \n",
    "    \n",
    "        new_calculation = input(\"Let's do new calculation? (yes/no): \")\n",
    "        if new_calculation == \"no\":\n",
    "            break\n",
    "    else:\n",
    "        print(\"Invalid Input\")\n"
   ]
  },
  {
   "cell_type": "markdown",
   "id": "e87605cc",
   "metadata": {},
   "source": [
    "def add(x, y):\n",
    "    return x + y\n",
    "\n",
    "def subtract(x, y):\n",
    "    return x - y\n",
    "\n",
    "def multiply(x, y):\n",
    "    return x * y\n",
    "\n",
    "def divide(x, y):\n",
    "    return x / y\n"
   ]
  }
 ],
 "metadata": {
  "kernelspec": {
   "display_name": "Python 3 (ipykernel)",
   "language": "python",
   "name": "python3"
  },
  "language_info": {
   "codemirror_mode": {
    "name": "ipython",
    "version": 3
   },
   "file_extension": ".py",
   "mimetype": "text/x-python",
   "name": "python",
   "nbconvert_exporter": "python",
   "pygments_lexer": "ipython3",
   "version": "3.9.12"
  }
 },
 "nbformat": 4,
 "nbformat_minor": 5
}
